{
 "cells": [
  {
   "cell_type": "code",
   "execution_count": 1,
   "metadata": {},
   "outputs": [],
   "source": [
    "import cv2\n",
    "import torch\n",
    "import numpy as np\n",
    "from glob import glob\n",
    "import torch.nn as nn\n",
    "import tensorflow as tf\n",
    "import matplotlib.pyplot as plt\n",
    "from sklearn.neighbors import NearestNeighbors"
   ]
  },
  {
   "cell_type": "code",
   "execution_count": 2,
   "metadata": {},
   "outputs": [],
   "source": [
    "(X_train, y_train), (X_test, y_test) = tf.keras.datasets.fashion_mnist.load_data()\n",
    "X_train = np.expand_dims(X_train, -1).astype(\"float32\") / 255\n",
    "X_test = np.expand_dims(X_test, -1).astype(\"float32\") / 255"
   ]
  },
  {
   "cell_type": "code",
   "execution_count": 3,
   "metadata": {},
   "outputs": [
    {
     "name": "stdout",
     "output_type": "stream",
     "text": [
      "Metal device set to: Apple M1 Pro\n",
      "\n",
      "systemMemory: 16.00 GB\n",
      "maxCacheSize: 5.33 GB\n",
      "\n"
     ]
    },
    {
     "name": "stderr",
     "output_type": "stream",
     "text": [
      "2024-05-10 11:35:44.778965: I tensorflow/core/common_runtime/pluggable_device/pluggable_device_factory.cc:306] Could not identify NUMA node of platform GPU ID 0, defaulting to 0. Your kernel may not have been built with NUMA support.\n",
      "2024-05-10 11:35:44.779086: I tensorflow/core/common_runtime/pluggable_device/pluggable_device_factory.cc:272] Created TensorFlow device (/job:localhost/replica:0/task:0/device:GPU:0 with 0 MB memory) -> physical PluggableDevice (device: 0, name: METAL, pci bus id: <undefined>)\n"
     ]
    }
   ],
   "source": [
    "classifier = tf.keras.models.load_model(\"./models/mnist/classifier.keras\")"
   ]
  },
  {
   "cell_type": "code",
   "execution_count": 4,
   "metadata": {},
   "outputs": [],
   "source": [
    "class Generator(nn.Module):\n",
    "    def __init__(self, nc=1, nz=100, ngf=64):\n",
    "        super(Generator, self).__init__()\n",
    "        self.main = nn.Sequential(\n",
    "            # input is Z, going into a convolution\n",
    "            nn.ConvTranspose2d(nz, ngf * 8, 4, 1, 0, bias=False),\n",
    "            nn.BatchNorm2d(ngf * 8),\n",
    "            nn.ReLU(True),\n",
    "            # state size. (ngf*8) x 4 x 4\n",
    "            nn.ConvTranspose2d(ngf * 8, ngf * 4, 4, 2, 1, bias=False),\n",
    "            nn.BatchNorm2d(ngf * 4),\n",
    "            nn.ReLU(True),\n",
    "            # state size. (ngf*4) x 8 x 8\n",
    "            nn.ConvTranspose2d(ngf * 4, ngf * 2, 4, 2, 1, bias=False),\n",
    "            nn.BatchNorm2d(ngf * 2),\n",
    "            nn.ReLU(True),\n",
    "            # state size. (ngf*2) x 16 x 16\n",
    "            nn.ConvTranspose2d(ngf * 2, ngf, 4, 2, 1, bias=False),\n",
    "            nn.BatchNorm2d(ngf),\n",
    "            nn.ReLU(True),\n",
    "            nn.ConvTranspose2d(ngf, nc, kernel_size=1, stride=1, padding=2, bias=False),\n",
    "            nn.Tanh()\n",
    "        )\n",
    "\n",
    "    def forward(self, input):\n",
    "        return self.main(input)\n",
    "    \n",
    "    def generate_images(self, batch_size=100):\n",
    "        latent_size = 100\n",
    "\n",
    "        fixed_noise = torch.randn(batch_size, latent_size, 1, 1)\n",
    "        generated_images = self.forward(fixed_noise)\n",
    "\n",
    "        generated_images = generated_images.cpu().detach().numpy()\n",
    "        return generated_images.reshape(generated_images.shape[0], 28, 28, 1)"
   ]
  },
  {
   "cell_type": "code",
   "execution_count": 5,
   "metadata": {},
   "outputs": [],
   "source": [
    "def get_k(train_features, test_features, delta=0.005):\n",
    "    k = 1\n",
    "    min_space = np.min(train_features, axis=0, keepdims=True)\n",
    "    max_space = np.max(train_features, axis=0, keepdims=True)\n",
    "    while True:\n",
    "        nn = NearestNeighbors(n_neighbors=k+1).fit(train_features)\n",
    "        distances_train, _ = nn.kneighbors(train_features)\n",
    "        distances_samples, indices_samples = nn.kneighbors(test_features, 1)\n",
    "\n",
    "        num_generalized = 0\n",
    "        for i in range(len(test_features)):\n",
    "            train_indice = indices_samples[i]\n",
    "            if distances_samples[i] > distances_train[train_indice, k] and \\\n",
    "                            np.all(test_features[i] > min_space) and \\\n",
    "                            np.all(test_features[i] < max_space):\n",
    "                num_generalized += 1\n",
    "        \n",
    "        if num_generalized / len(test_features) < delta:\n",
    "            break\n",
    "        k += 1\n",
    "    return k"
   ]
  },
  {
   "cell_type": "code",
   "execution_count": 6,
   "metadata": {},
   "outputs": [],
   "source": [
    "def calculate_generalization(train_features, test_features, generated_features, delta=0.005):\n",
    "    k = get_k(train_features, test_features, delta=delta)\n",
    "    min_space = np.min(train_features, axis=0, keepdims=True)\n",
    "    max_space = np.max(train_features, axis=0, keepdims=True)\n",
    "    \n",
    "    nn = NearestNeighbors(n_neighbors=k+1).fit(train_features)\n",
    "    distances_train, _ = nn.kneighbors(train_features)\n",
    "    distances_samples, indices_samples = nn.kneighbors(generated_features, 1)\n",
    "\n",
    "    num_generalized = 0\n",
    "    for i in range(len(generated_features)):\n",
    "        train_indice = indices_samples[i]\n",
    "        if distances_samples[i] > distances_train[train_indice, k] and \\\n",
    "                            np.all(generated_features[i] > min_space) and \\\n",
    "                            np.all(generated_features[i] < max_space):\n",
    "            num_generalized += 1\n",
    "    return num_generalized / len(generated_features)"
   ]
  },
  {
   "cell_type": "code",
   "execution_count": 7,
   "metadata": {},
   "outputs": [
    {
     "name": "stderr",
     "output_type": "stream",
     "text": [
      "2024-05-10 11:35:45.652101: W tensorflow/core/platform/profile_utils/cpu_utils.cc:128] Failed to get CPU frequency: 0 Hz\n",
      "2024-05-10 11:35:45.691338: I tensorflow/core/grappler/optimizers/custom_graph_optimizer_registry.cc:114] Plugin optimizer for device_type GPU is enabled.\n"
     ]
    },
    {
     "name": "stdout",
     "output_type": "stream",
     "text": [
      "1875/1875 [==============================] - 4s 2ms/step\n",
      " 90/313 [=======>......................] - ETA: 0s"
     ]
    },
    {
     "name": "stderr",
     "output_type": "stream",
     "text": [
      "2024-05-10 11:35:50.698911: I tensorflow/core/grappler/optimizers/custom_graph_optimizer_registry.cc:114] Plugin optimizer for device_type GPU is enabled.\n"
     ]
    },
    {
     "name": "stdout",
     "output_type": "stream",
     "text": [
      "313/313 [==============================] - 1s 2ms/step\n",
      "4/4 [==============================] - 0s 14ms/step\n"
     ]
    },
    {
     "data": {
      "image/png": "[encoded data removed]",
      "text/plain": [
       "<Figure size 640x480 with 1 Axes>"
      ]
     },
     "metadata": {},
     "output_type": "display_data"
    }
   ],
   "source": [
    "# Load the generator\n",
    "generator = Generator().eval()\n",
    "generator.load_state_dict(torch.load('./models/mnist/netG_epoch_99.pth', map_location=torch.device('cpu')))\n",
    "\n",
    "# Generate Images\n",
    "generated_images = generator.generate_images()\n",
    "\n",
    "# Get features\n",
    "_, train_features = classifier.predict(X_train)\n",
    "_, test_features = classifier.predict(X_test)\n",
    "_, generated_features = classifier.predict(generated_images)\n",
    "\n",
    "# Compute generalization percentage for differnt values of delta\n",
    "deltas = np.linspace(0.5, 0.0001, 10).tolist()\n",
    "values = []\n",
    "for i, delta in enumerate(deltas):\n",
    "    value = calculate_generalization(train_features, test_features, generated_features, delta=delta)\n",
    "    values.append(value)\n",
    "    plt.scatter(delta, value, color=(0, 0, 1, 0.75))\n",
    "plt.plot(deltas, values, c=(0, 0, 1, 0.75))\n",
    "plt.title(\"Generalization Rate vs Delta\")\n",
    "plt.ylabel(\"Generalization Percentage\")\n",
    "plt.xlabel(\"Delta\")\n",
    "\n",
    "plt.show()"
   ]
  }
 ],
 "metadata": {
  "kernelspec": {
   "display_name": "data-science",
   "language": "python",
   "name": "python3"
  },
  "language_info": {
   "codemirror_mode": {
    "name": "ipython",
    "version": 3
   },
   "file_extension": ".py",
   "mimetype": "text/x-python",
   "name": "python",
   "nbconvert_exporter": "python",
   "pygments_lexer": "ipython3",
   "version": "3.10.6"
  }
 },
 "nbformat": 4,
 "nbformat_minor": 2
}
